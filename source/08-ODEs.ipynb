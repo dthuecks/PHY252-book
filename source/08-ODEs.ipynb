{
 "cells": [
  {
   "cell_type": "markdown",
   "metadata": {},
   "source": [
    "# 8 - Solving Ordinary Differential Equations (ODEs)<br>*(Ch. 8.1-8.2)*\n",
    "\n",
    "## Differential equations are ubiquitous in physics.\n",
    "Differential equations come in two main types: ordinary differential equations (ODEs) and partial differential equations (PDEs). We encountered differential equations as early as in PHY 111, as Newton's second law in one dimension can be written as\n",
    "\\begin{equation*}\n",
    "    \\frac{d^2 x}{dt^2}=\\frac{F_{net}}{m}.\n",
    "\\end{equation*}\n",
    "Differential equations are also found in quantum mechanics (Schr&ouml;dinger equation), wave equations, electricity and magnetism, electronics, etc.\n",
    "\n",
    "While some differential equations can be solved analytically, others cannot be. It is in these situations that numerical methods really shine.\n",
    "\n",
    "<br><br><br><br><br><br><br><br><br><br><br><br>\n",
    "## Example: Ball in free-fall\n",
    "Last time, we examined a vpython code that allowed us to visualize a bouncing ball under the influence of gravity. The code is below. We used the equations \n",
    "\\begin{equation*}\n",
    "    \\Delta y = v\\Delta t,\\ \\ \\Delta v = a\\Delta t\n",
    "\\end{equation*} \n",
    "which can be re-organized into the following differential equations: \n",
    "\\begin{equation*}\n",
    "    \\frac{dy}{dt}=v,\\ \\ \\frac{dv}{dt}=-g\n",
    "\\end{equation*}\n",
    "\n",
    "While the differential equations for this free-fall problem can be solved analytically in this scenario, we're going to examine numerical techniques to see how well they can accomplish the same task."
   ]
  },
  {
   "cell_type": "code",
   "execution_count": null,
   "metadata": {},
   "outputs": [],
   "source": [
    "#\n",
    "# Program 2.1: A bouncing ball (bouncing_ball.py)\n",
    "# J Wang, Computational modeling and visualization with Python\n",
    "#\n",
    "\n",
    "import vpython as vp     # get VPython modules for animation\n",
    "scene = vp.canvas() # Needed to start a new Vpython display for the current code cell\n",
    "\n",
    "# draw the ball at (0,5,0) and a thin floor at (0,-5,0)\n",
    "ball = vp.sphere(pos=vp.vector(0,5,0), radius=1, color=vp.color.yellow) # ball  \n",
    "floor = vp.box(pos=vp.vector(0,-5,0), length=8, height=0.2, width=4)    # floor \n",
    "\n",
    "dt = 0.005            # time step size                        \n",
    "v = 0.0             # initial velocity                      \n",
    "while True:         # loop forever\n",
    "    vp.rate(200)    # limit animation rate to 200 loops/sec \n",
    "    ball.pos.y = ball.pos.y + v*dt       # update y position \n",
    "    if ball.pos.y > floor.pos.y + ball.radius:  \n",
    "        v = v - 9.8*dt       # above floor, update velocity  \n",
    "    else:                               \n",
    "        v = - v             # below floor, reverse velocity "
   ]
  },
  {
   "cell_type": "markdown",
   "metadata": {},
   "source": [
    "<br><br><br><br><br><br><br><br><br><br><br><br>\n",
    "## Euler's method\n",
    "Let's assume we have a generic ODE given by\n",
    "\\begin{equation*}\\frac{\\mathrm{d}x}{\\mathrm{d}t}=f(x,t)\\end{equation*}\n",
    "and that we would like to find a solution $x(t)$ given initial conditions (e.g. value of $x$ at $t=0$).\n",
    "\n",
    "To develop this method, we will look at a Taylor expansion \n",
    "\\begin{equation*}\n",
    "    x(t+h) = x(t) + h\\frac{\\mathrm{d}x}{\\mathrm{d}t} + \\frac{1}{2}h^2\\frac{\\mathrm{d}^2x}\n",
    "    {\\mathrm{d}t^2}+\\cdots = x(t) + hf(x,t)+O(h^2)\n",
    "\\end{equation*} \n",
    "where $h$ is the time interval between the old and new values of $x$.\n",
    "\n",
    "If $h$ is very small, we can neglect the higher order terms and obtain (to very good approximation)\n",
    "\\begin{equation*}\n",
    "    x(t+h) = x(t) + hf(x,t).\n",
    "\\end{equation*}\n",
    "\n"
   ]
  },
  {
   "cell_type": "markdown",
   "metadata": {},
   "source": [
    "\n",
    "## Qualitative picture\n",
    "So, if we're given an initial condition, we now have an iterative equation that can be used to plot our function $x(t)$. The idea behind Euler's method is to consider the slope of the function at $x$ and extrapolate it to the position $(x,h)$ as shown in the figure.\n",
    "\n",
    "![](images/EulerMethod.png)\n"
   ]
  },
  {
   "cell_type": "markdown",
   "metadata": {},
   "source": [
    "<br><br><br><br><br><br><br><br><br><br><br><br><br><br>\n",
    "## Use Euler method to describe free-fall motion\n",
    "The Euler method can be use to solve for $y(t)$ numerically based on the following differential equation \\begin{equation*}\n",
    "    \\frac{\\mathrm{d}y}{\\mathrm{d}t}=v_{0y}+a_y (t-t_0).\n",
    "\\end{equation*}\n",
    "Use the following recipe to advance from $(t_{i-1})$ to $t_i$:\n",
    "\\begin{equation*} v_{y,i} = v_0 + ay*(t_i-t_0) \\mathrm{\\ (exact\\ expression)}\\end{equation*}\n",
    "\\begin{equation*} t_i = t_{i-1} + \\Delta t \\end{equation*}\n",
    "\\begin{equation*} y_i = y_{i-1} + v_{y,i-1} \\Delta t \\end{equation*}\n",
    "This last equation is equivalent to the $x(t+h) = x(t) + hf(x,t)$ step from above. \n",
    "\n",
    "***Note:*** We are going to 'cheat' here a bit and use the analytic solution for velocity so that we're only worrying about a single differential equation that we need to solve. We'll revisit this and perform the calculation correctly soon."
   ]
  },
  {
   "cell_type": "code",
   "execution_count": 2,
   "metadata": {},
   "outputs": [
    {
     "data": {
      "text/plain": [
       "<matplotlib.legend.Legend at 0x1f6b30a7d00>"
      ]
     },
     "execution_count": 2,
     "metadata": {},
     "output_type": "execute_result"
    },
    {
     "data": {
      "image/png": "[encoded data removed]",
      "text/plain": [
       "<Figure size 432x288 with 1 Axes>"
      ]
     },
     "metadata": {
      "needs_background": "light"
     },
     "output_type": "display_data"
    }
   ],
   "source": [
    "import numpy as np\n",
    "import matplotlib.pyplot as plt\n",
    "\n",
    "def v(y,t):\n",
    "    fy = v0 + ay*(t-t0)\n",
    "    return fy\n",
    "\n",
    "# Defining simulation parameters\n",
    "y0 = 20.0 # initial y in meters\n",
    "v0 = 0.0 # m/s\n",
    "ay = -9.8 # m/s^2\n",
    "t0 = 0.0\n",
    "tf = 3.0\n",
    "h = 0.002 # timestep in seconds\n",
    "\n",
    "# Establish data containers\n",
    "tpoints = np.arange(t0,tf+h,h)\n",
    "ypoints = []\n",
    "\n",
    "# Initialize loop variables\n",
    "y = y0\n",
    "\n",
    "# Euler method\n",
    "for t in tpoints:\n",
    "    ypoints.append(y)\n",
    "    y += h*v(y,t) # Euler method\n",
    "    if y<0:\n",
    "        y = 0\n",
    "\n",
    "# Theoretical solution\n",
    "yth = y0 + v0*(tpoints-t0) + 0.5*ay*(tpoints-t0)**2\n",
    "yth[yth<0]=0\n",
    "\n",
    "# Plot data\n",
    "plt.plot(tpoints,ypoints,'b',label='Euler')\n",
    "plt.plot(tpoints,yth,'r--',label='Theory')\n",
    "plt.xlabel('Time (s)')\n",
    "plt.ylabel('Height (m)')\n",
    "plt.legend()"
   ]
  },
  {
   "cell_type": "markdown",
   "metadata": {},
   "source": [
    "<br><br><br><br><br><br><br><br><br><br><br><br><br><br><br><br><br>\n",
    "Pre-generated solution:"
   ]
  },
  {
   "cell_type": "code",
   "execution_count": null,
   "metadata": {},
   "outputs": [],
   "source": [
    "# Using Numpy arrays\n",
    "import numpy as np\n",
    "import matplotlib.pyplot as plt\n",
    "\n",
    "# Variables defined before the function definition are available to both the main program and the function\n",
    "y0 = 0.0\n",
    "t0 = 0.0\n",
    "tf = 1.1\n",
    "vy0 = 5.0\n",
    "ay = -9.8\n",
    "dt = 0.02 # time step in seconds\n",
    "\n",
    "def velocity(y,t): # This is the function representing the ODE we're trying to solve\n",
    "    return vy0 + ay*(t-t0)\n",
    "\n",
    "N = int(np.round((tf-t0)/dt)) # number of time steps\n",
    "\n",
    "yarr = np.zeros(N)\n",
    "tarr = np.zeros(N)\n",
    "\n",
    "tarr[0] = t0\n",
    "yarr[0] = y0\n",
    "\n",
    "for i in range(1,N):\n",
    "    tarr[i] = tarr[i-1]+dt # Advance time by dt\n",
    "    yarr[i] = yarr[i-1]+dt*velocity(yarr[i-1],tarr[i-1]) # Generic x(t+delta_t)=x(t)+h*f(x,t) step\n",
    "    if yarr[i]<0: # Keep object from dropping through the ground\n",
    "        yarr[i]=0\n",
    "\n",
    "#Calculate exact solution for comparison\n",
    "y_th=vy0*tarr+0.5*ay*tarr**2\n",
    "y_th[y_th<0]=0\n",
    "        \n",
    "plt.plot(tarr,yarr)\n",
    "plt.plot(tarr,y_th,'--')\n",
    "plt.legend(['Euler','Exact'])\n",
    "plt.xlabel('Time (s)')\n",
    "plt.ylabel('Y Position (m)')  "
   ]
  },
  {
   "cell_type": "code",
   "execution_count": null,
   "metadata": {},
   "outputs": [],
   "source": [
    "# Using lists\n",
    "import numpy as np\n",
    "import matplotlib.pyplot as plt\n",
    "\n",
    "def velocity(y,t): # This is the function representing the ODE we're trying to solve\n",
    "    return vy0 + ay*(t-t0)\n",
    "\n",
    "# Variables defining simulation parameters\n",
    "y0 = 0.0\n",
    "t0 = 0.0\n",
    "tf = 1.1\n",
    "vy0 = 5.0\n",
    "ay = -9.8\n",
    "h = 0.02 # time step in seconds\n",
    "\n",
    "# Define data containers\n",
    "tarr = np.arange(t0,tf+h,h)\n",
    "yarr = []\n",
    "\n",
    "# initialize y value for zeroth timestep\n",
    "y = y0\n",
    "\n",
    "for t in tarr:\n",
    "    yarr.append(y)\n",
    "    y += h*velocity(y,t) # Generic x(t+delta_t)=x(t)+h*f(x,t) step\n",
    "    if y<0: # Keep object from dropping through the ground\n",
    "        y=0\n",
    "\n",
    "#Calculate exact solution for comparison\n",
    "y_th=vy0*tarr+0.5*ay*tarr**2\n",
    "y_th[y_th<0]=0\n",
    "        \n",
    "plt.plot(tarr,yarr)\n",
    "plt.plot(tarr,y_th,'--')\n",
    "plt.legend(['Euler','Exact'])\n",
    "plt.xlabel('Time (s)')\n",
    "plt.ylabel('Y Position (m)')  "
   ]
  },
  {
   "cell_type": "markdown",
   "metadata": {},
   "source": [
    "# The numerical solution departs from the exact solution\n",
    "How can we make our numerical estimate better? While leaving initial physical conditions the same, adjust the size of dt to investigate the impact the 'correctness' of the numerical prediction."
   ]
  },
  {
   "cell_type": "markdown",
   "metadata": {},
   "source": [
    "<br><br><br><br><br><br><br><br><br><br><br><br><br><br>\n",
    "## Second-order Runge-Kutta Method\n",
    "Euler's method (technically the first-order Runge-Kutta method) does a pretty good job in many cases, but we can do better!\n",
    "\n",
    "Consider a simple modification where we make our estimate of the next time point, $(t+h)$, by using the slope at $\\left( t + \\frac{h}{2} \\right)$, as shown below.\n",
    "\n",
    "![](images/RK2Method.png)\n",
    "\n",
    "<br><br><br><br><br><br><br><br><br><br><br><br>\n",
    "## RK2 development\n",
    "To do this we need to consider some more Taylor expansions, both at $x(t+h)$ and $x\\left( t + \\frac{h}{2} \\right)$. See the textbook for derivation. After combining the equations, we find\n",
    "\n",
    "\\begin{equation*} \n",
    "    x(t+h) = x(t) + hf\\left( x\\left( t + \\frac 12 h \\right),t+\\frac{1}{2}h \\right) + O\\left( h^3 \\right)\n",
    "\\end{equation*}\n",
    "\n",
    "Where in the above, we need to approximate $x\\left( t + \\frac 12 h \\right)$ with Euler's method: $x\\left( t + \\frac 12 h \\right) = x(t) + \\frac 12 hf(x,t)$. We then substitute this into the above formula. The entire process can be summarized as\n",
    "\n",
    "\\begin{equation*} \n",
    "    \\begin{aligned} k_1 & = hf(x,t) \\\\ \n",
    "    k_2 & = hf \\left( x + \\frac 12 k_1, t + \\frac 12 h \\right) \\\\ \n",
    "    x(t+h) & = x(t) + k_2 \\end{aligned}\n",
    "\\end{equation*}\n",
    "\n",
    "**Let's implement this approach for our previous scenario:**"
   ]
  },
  {
   "cell_type": "code",
   "execution_count": 10,
   "metadata": {},
   "outputs": [
    {
     "data": {
      "text/plain": [
       "Text(0, 0.5, 'Y Position (m)')"
      ]
     },
     "execution_count": 10,
     "metadata": {},
     "output_type": "execute_result"
    },
    {
     "data": {
      "image/png": "[encoded data removed]",
      "text/plain": [
       "<Figure size 900x600 with 1 Axes>"
      ]
     },
     "metadata": {
      "needs_background": "light"
     },
     "output_type": "display_data"
    }
   ],
   "source": [
    "# Start with Euler method and modify to RK2\n",
    "# Using lists\n",
    "import numpy as np\n",
    "import matplotlib.pyplot as plt\n",
    "\n",
    "def v(y,t): # This is the function representing the ODE we're trying to solve\n",
    "    return vy0 + ay*(t-t0)\n",
    "\n",
    "# Variables defining simulation parameters\n",
    "y0 = 5.0\n",
    "t0 = 0.0\n",
    "tf = 1.1\n",
    "vy0 = 0.0\n",
    "ay = -9.8\n",
    "h = 0.0005 # time step in seconds\n",
    "\n",
    "# Define data containers\n",
    "tarr = np.arange(t0,tf+h,h)\n",
    "yarr = []\n",
    "\n",
    "# initialize y value for zeroth timestep\n",
    "y = y0\n",
    "\n",
    "for t in tarr:\n",
    "    yarr.append(y)\n",
    "    #y += h*v(y,t) # Generic x(t+delta_t)=x(t)+h*f(x,t) step for Euler method\n",
    "    \n",
    "    ##### RK2 method ##########\n",
    "    k1 = h * v(y,t)\n",
    "    k2 = h * v(y + 0.5*k1, t+0.5*h)\n",
    "    y += k2\n",
    "    #########################    \n",
    "    if y<0: # Keep object from dropping through the ground\n",
    "        y=0\n",
    "\n",
    "#Calculate exact solution for comparison\n",
    "y_th=y0 + vy0*(tarr-t0)+0.5*ay*(tarr-t0)**2\n",
    "y_th[y_th<0]=0\n",
    "\n",
    "plt.figure(dpi=150)\n",
    "plt.plot(tarr,yarr)\n",
    "plt.plot(tarr,y_th,'--')\n",
    "plt.legend(['RK2','Exact'])\n",
    "plt.xlabel('Time (s)')\n",
    "plt.ylabel('Y Position (m)')  "
   ]
  },
  {
   "cell_type": "markdown",
   "metadata": {},
   "source": [
    "<br><br><br><br><br><br><br><br><br><br><br><br><br><br><br><br><br>\n",
    "Pre-generated solution:"
   ]
  },
  {
   "cell_type": "code",
   "execution_count": null,
   "metadata": {},
   "outputs": [],
   "source": [
    "# Using lists\n",
    "import numpy as np\n",
    "import matplotlib.pyplot as plt\n",
    "\n",
    "def velocity(y,t): # This is the function representing the ODE we're trying to solve\n",
    "    return vy0 + ay*(t-t0)\n",
    "\n",
    "# Variables defining simulation parameters\n",
    "y0 = 0.0\n",
    "t0 = 0.0\n",
    "tf = 1.1\n",
    "vy0 = 5.0\n",
    "ay = -9.8\n",
    "h = 0.02 # time step in seconds\n",
    "\n",
    "# Define data containers\n",
    "tarr = np.arange(t0,tf+h,h)\n",
    "yarr = []\n",
    "\n",
    "# initialize y value for zeroth timestep\n",
    "y = y0\n",
    "\n",
    "for t in tarr:\n",
    "    yarr.append(y)\n",
    "    #y += h*velocity(y,t) # Euler method\n",
    "    ########### Implement the RK2 method ############\n",
    "    k1 = h * velocity(y,t)  # Next three lines correspond to RK2 method\n",
    "    k2 = h * velocity(y+0.5*k1, t + h/2)\n",
    "    y += k2\n",
    "    ################################################\n",
    "    if y<0: # Keep object from dropping through the ground\n",
    "        y=0\n",
    "\n",
    "#Calculate exact solution for comparison\n",
    "y_th=vy0*tarr+0.5*ay*tarr**2\n",
    "y_th[y_th<0]=0\n",
    "        \n",
    "plt.plot(tarr,yarr)\n",
    "plt.plot(tarr,y_th,'--')\n",
    "plt.legend(['RK2','Exact'])\n",
    "plt.xlabel('Time (s)')\n",
    "plt.ylabel('Y Position (m)')  "
   ]
  },
  {
   "cell_type": "markdown",
   "metadata": {},
   "source": [
    "<br><br><br><br><br><br><br><br><br><br><br><br><br>\n",
    "## Euler vs RK2\n",
    "If you take a look at the Taylor series used to justify the two approaches, we had\n",
    "\\begin{equation*} x(t+h) = x(t) + hf(x,t) + O(h^2) \\end{equation*}\n",
    "for the Euler method and\n",
    "\\begin{equation*} x(t+h) = x(t) + hf\\left( x\\left( t + \\frac 12 h \\right),t+\\frac{1}{2}h \\right) + O\\left( h^3 \\right) \\end{equation*}\n",
    "for the second-order Runge-Kutta method. \n",
    "\n",
    "This means that we neglected terms of order $O(h^2)$ in the Euler method and $O(h^3)$ in the second-order Runge-Kutta method. This illustrates that the RK2 method is going to more accurately represent the real solution than the Euler method because we're neglecting terms of a higher power in RK2 than in Euler.\n",
    "\n",
    "\n",
    "<br><br><br><br><br><br><br><br><br><br><br><br><br>\n",
    "## Higher-order Runge-Kutta methods\n",
    "\\begin{equation*} \\frac{dx}{dt}=f(x,t) \\end{equation*}\n",
    "There are higher-order Runge-Kutta methods, and each brings greater accuracty at the expense of greater complexity in programming. Commonly, the fourth order Runge_kutta method is seen to be a good compromise. The equations for this process are:\n",
    "\n",
    "\\begin{equation*} \\begin{aligned} k_1 & = hf(x,t) \\\\ \n",
    "k_2 & = hf \\left( x + \\frac{1}{2} k_1, t + \\frac{1}{2} h \\right) \\\\\n",
    "k_3 & = hf \\left( x + \\frac{1}{2} k_2, t + \\frac{1}{2} h \\right) \\\\\n",
    "k_4 & = hf \\left( x + k_3, t + h \\right) \\\\\n",
    "x(t+h) & = x(t) + \\frac{1}{6}\\left( k_1 + 2k_2 + 2k_3 + k_4 \\right) \n",
    "\\end{aligned}\\end{equation*}\n",
    "\n",
    "Let's apply this to free-fall motion:"
   ]
  },
  {
   "cell_type": "code",
   "execution_count": 1,
   "metadata": {},
   "outputs": [
    {
     "data": {
      "text/plain": [
       "Text(0, 0.5, 'Y Position (m)')"
      ]
     },
     "execution_count": 1,
     "metadata": {},
     "output_type": "execute_result"
    },
    {
     "data": {
      "image/png": "[encoded data removed]",
      "text/plain": [
       "<Figure size 432x288 with 1 Axes>"
      ]
     },
     "metadata": {
      "needs_background": "light"
     },
     "output_type": "display_data"
    }
   ],
   "source": [
    "# Using lists\n",
    "import numpy as np\n",
    "import matplotlib.pyplot as plt\n",
    "\n",
    "def v(y,t): # This is the function representing the ODE we're trying to solve\n",
    "    fy = vy0 + ay*(t-t0)\n",
    "    return fy\n",
    "\n",
    "# Variables defining simulation parameters\n",
    "y0 = 0.0\n",
    "t0 = 0.0\n",
    "tf = 1.1\n",
    "vy0 = 5.0\n",
    "ay = -9.8\n",
    "h = 0.02 # time step in seconds\n",
    "\n",
    "# Define data containers\n",
    "tarr = np.arange(t0,tf+h,h)\n",
    "yarr = []\n",
    "\n",
    "# initialize y value for zeroth timestep\n",
    "y = y0\n",
    "\n",
    "for t in tarr:\n",
    "    yarr.append(y)\n",
    "   ###### Implement RK4 method ##############\n",
    "    k1 = h * v(y,t)  # Next five lines correspond to RK4 method (the only lines that have changed!)\n",
    "    k2 = h * v(y+0.5*k1, t+h/2)\n",
    "    k3 = h * v(y+0.5*k2, t+h/2)\n",
    "    k4 = h * v(y+k3, t+h)\n",
    "    y += (k1+2*k2+2*k3+k4)/6\n",
    "    ##########################################\n",
    "    if y<0: # Keep object from dropping through the ground\n",
    "        y=0\n",
    "\n",
    "#Calculate exact solution for comparison\n",
    "y_th=y0 + vy0*(tarr-t0)+0.5*ay*(tarr-t0)**2\n",
    "y_th[y_th<0]=0\n",
    "        \n",
    "plt.plot(tarr,yarr)\n",
    "plt.plot(tarr,y_th,'--')\n",
    "plt.legend(['RK4','Exact'])\n",
    "plt.xlabel('Time (s)')\n",
    "plt.ylabel('Y Position (m)')  "
   ]
  },
  {
   "cell_type": "markdown",
   "metadata": {},
   "source": [
    "<br><br><br><br><br><br><br><br><br><br><br>\n",
    "## Example\n",
    "We can use this method to solve any 1st-order ordinary differential equation. Let's consider\n",
    "\n",
    "\\begin{equation*} \\frac{\\mathrm{d}x}{\\mathrm{d}t} = -x^3 + \\mathrm{sin}(t) \\end{equation*}\n",
    "\n",
    "Starting at $x=0$ and for the interval $t=[0,10]$. \n",
    "* a) Use Euler's method to generate a plot using $N=1000$ terms\n",
    "* b) Use RK2 to generate a numerical solution and plot it on the same axes as the Euler method solution.\n",
    "* c) Use RK4 to generate a numerical solution and plot it on the same axes as the previous two solutions.\n",
    "* d) Make $N$ progressively smaller to see further deviation between the methods."
   ]
  },
  {
   "cell_type": "code",
   "execution_count": 14,
   "metadata": {},
   "outputs": [
    {
     "data": {
      "text/plain": [
       "[<matplotlib.lines.Line2D at 0x1f6b387acd0>]"
      ]
     },
     "execution_count": 14,
     "metadata": {},
     "output_type": "execute_result"
    },
    {
     "data": {
      "image/png": "[encoded data removed]",
      "text/plain": [
       "<Figure size 432x288 with 1 Axes>"
      ]
     },
     "metadata": {
      "needs_background": "light"
     },
     "output_type": "display_data"
    }
   ],
   "source": [
    "import math\n",
    "import matplotlib.pyplot as plt\n",
    "import numpy as np\n",
    "\n",
    "def f(x,t):\n",
    "    return -x**3 +math.sin(t)\n",
    "\n",
    "t0 = 0.0     # starting value of t\n",
    "tf = 10.0    # ending value of t\n",
    "N = 1000    # number of steps\n",
    "h = (tf-t0)/N # step size\n",
    "x = 0.0     # initial condition for x\n",
    "\n",
    "tpoints = np.arange(t0,tf,h) #Define time array in advance rather than calculating it for every time step\n",
    "\n",
    "# EULER METHOD ===============\n",
    "xpoints = []\n",
    "\n",
    "for t in tpoints:\n",
    "    xpoints.append(x)\n",
    "    x += h*f(x,t)\n",
    "\n",
    "plt.figure()\n",
    "plt.plot(tpoints,xpoints)"
   ]
  },
  {
   "cell_type": "markdown",
   "metadata": {},
   "source": [
    "<br><br><br><br><br><br><br><br><br><br><br><br><br>\n",
    "### Pre-generated solution (all methods):"
   ]
  },
  {
   "cell_type": "code",
   "execution_count": 17,
   "metadata": {},
   "outputs": [
    {
     "data": {
      "image/png": "[encoded data removed]",
      "text/plain": [
       "<Figure size 600x400 with 1 Axes>"
      ]
     },
     "metadata": {
      "needs_background": "light"
     },
     "output_type": "display_data"
    }
   ],
   "source": [
    "import math\n",
    "import matplotlib.pyplot as plt\n",
    "import numpy as np\n",
    "\n",
    "def f(x,t):\n",
    "    return -x**3 +math.sin(t)\n",
    "\n",
    "a = 0.0     # starting value of t\n",
    "b = 10.0    # ending value of t\n",
    "N = 100    # number of steps\n",
    "h = (b-a)/N # step size\n",
    "x = 0.0     # initial condition for x\n",
    "\n",
    "\n",
    "# EULER METHOD ===============\n",
    "tpoints = np.arange(a,b,h)\n",
    "xpoints = []\n",
    "for t in tpoints:\n",
    "    xpoints.append(x)\n",
    "    x += h*f(x,t) # Euler method\n",
    "    \n",
    "plt.figure(dpi=100)\n",
    "plt.plot(tpoints,xpoints,'y-')  \n",
    "plt.xlabel('t')\n",
    "plt.ylabel('x(t)')\n",
    "\n",
    "# END EULER METHOD ===============\n",
    "\n",
    "# RK2 METHOD ================================\n",
    "Nrk = N\n",
    "h = (b-a)/Nrk # step size\n",
    "xrk = 0.0  \n",
    "\n",
    "tpoints = np.arange(a,b,h)\n",
    "xrkpoints = []\n",
    "for t in tpoints:\n",
    "    xrkpoints.append(xrk)\n",
    "    ####### RK2 method ############\n",
    "    k1 = h*f(xrk,t)\n",
    "    k2 = h*f(xrk+0.5*k1,t+0.5*h)\n",
    "    xrk += k2\n",
    "    ##############################\n",
    "    \n",
    "plt.plot(tpoints,xrkpoints,'g--',lw=2)  # plot this on the same image\n",
    "\n",
    "# RK4 METHOD ================================\n",
    "Nrk4 = N\n",
    "h = (b-a)/Nrk4 # step size\n",
    "xrk4 = 0.0  \n",
    "\n",
    "tpoints = np.arange(a,b,h)\n",
    "xrk4points = []\n",
    "for t in tpoints:\n",
    "    xrk4points.append(xrk4)\n",
    "    ##### RK4 method ###############\n",
    "    k1 = h*f(xrk4,t)\n",
    "    k2 = h*f(xrk4+0.5*k1,t+0.5*h)\n",
    "    k3 = h*f(xrk4+0.5*k2,t+0.5*h)\n",
    "    k4 = h*f(xrk4+k3,t+h)\n",
    "    xrk4 += (k1+2*k2+2*k3+k4)/6\n",
    "    ###############################\n",
    "    \n",
    "plt.plot(tpoints,xrk4points,'b:',lw=2)  # plot this on the same image\n",
    "plt.legend(['Euler','RK2','RK4'])\n",
    "plt.show()\n"
   ]
  },
  {
   "cell_type": "markdown",
   "metadata": {},
   "source": [
    "<br><br><br><br><br><br><br><br><br><br><br><br><br><br><br><br><br>\n",
    "## Student designed example\n",
    "\n",
    "\\begin{equation*} \\frac{dw}{dt} = w^2+e^{t}\\sin(t)\\cos(w) \\end{equation*}\n"
   ]
  },
  {
   "cell_type": "code",
   "execution_count": 6,
   "metadata": {},
   "outputs": [
    {
     "data": {
      "text/plain": [
       "<matplotlib.collections.PathCollection at 0x1f15182a6a0>"
      ]
     },
     "execution_count": 6,
     "metadata": {},
     "output_type": "execute_result"
    },
    {
     "data": {
      "image/png": "[encoded data removed]",
      "text/plain": [
       "<Figure size 432x288 with 1 Axes>"
      ]
     },
     "metadata": {
      "needs_background": "light"
     },
     "output_type": "display_data"
    }
   ],
   "source": [
    "# Import\n",
    "import numpy as np\n",
    "import matplotlib.pyplot as plt\n",
    "\n",
    "# Define function\n",
    "def f(w,t):\n",
    "    fw = (w**2) + np.exp(t)* np.sin(t) *np.cos(w)\n",
    "    return fw\n",
    "\n",
    "# Run parameters\n",
    "w0 = 1.000\n",
    "t0 = 0.0\n",
    "tf = 1.0\n",
    "h = 0.02\n",
    "\n",
    "# Create lists and arrays\n",
    "tpoints = np.arange(t0,tf+h,h)\n",
    "wpoints = []\n",
    "\n",
    "# Initialize variables that go into RK4\n",
    "w = w0\n",
    "\n",
    "# For loop to do RK4\n",
    "for t in tpoints:\n",
    "    # Append into solution list (w)\n",
    "    wpoints.append(w)\n",
    "    # RK4 \n",
    "    k1 = h*f(w,t)\n",
    "    k2 = h*f(w+0.5*k1,t+0.5*h)\n",
    "    k3 = h*f(w+0.5*k2,t+0.5*h)\n",
    "    k4 = h*f(w+k3,t+h)\n",
    "    w += (k1+2*k2+2*k3+k4)/6    \n",
    "\n",
    "# Plot results\n",
    "plt.figure()\n",
    "plt.plot(tpoints,wpoints)\n",
    "plt.scatter(tpoints,wpoints,color='red')"
   ]
  },
  {
   "cell_type": "markdown",
   "metadata": {},
   "source": [
    "\\begin{equation*} \\begin{aligned} k_1 & = hf(x,t) \\\\ \n",
    "k_2 & = hf \\left( x + \\frac{1}{2} k_1, t + \\frac{1}{2} h \\right) \\\\\n",
    "k_3 & = hf \\left( x + \\frac{1}{2} k_2, t + \\frac{1}{2} h \\right) \\\\\n",
    "k_4 & = hf \\left( x + k_3, t + h \\right) \\\\\n",
    "x(t+h) & = x(t) + \\frac{1}{6}\\left( k_1 + 2k_2 + 2k_3 + k_4 \\right) \n",
    "\\end{aligned}\\end{equation*} "
   ]
  },
  {
   "cell_type": "code",
   "execution_count": null,
   "metadata": {},
   "outputs": [],
   "source": []
  }
 ],
 "metadata": {
  "kernelspec": {
   "display_name": "Python [conda env:base] *",
   "language": "python",
   "name": "conda-base-py"
  },
  "language_info": {
   "codemirror_mode": {
    "name": "ipython",
    "version": 3
   },
   "file_extension": ".py",
   "mimetype": "text/x-python",
   "name": "python",
   "nbconvert_exporter": "python",
   "pygments_lexer": "ipython3",
   "version": "3.12.7"
  }
 },
 "nbformat": 4,
 "nbformat_minor": 4
}
