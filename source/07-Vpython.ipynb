{
 "cells": [
  {
   "cell_type": "markdown",
   "metadata": {},
   "source": [
    "# 7 - Vpython<br>*(Ch. 3.4-3.5)*\n",
    "\n",
    "## Let's explore a new module designed to allow physicists to quickly and easily produce 3D animations.\n",
    "\n",
    "Our textbook uses a package named `visual`, but this seems to have been supplanted by `vpython`, which takes everything from `visual` and adds more programming capabilities. Note that programs we put together will be *very* similar to what is in the text, but there are some minor changes that are necessary.\n",
    "\n",
    "Once you've installed Vpython, you can use it like so:"
   ]
  },
  {
   "cell_type": "code",
   "execution_count": null,
   "metadata": {},
   "outputs": [],
   "source": [
    "import vpython as vp\n",
    "scene = vp.canvas() # Needed to start a new Vpython display for the current code cell\n",
    "vp.sphere() # Create a 3D sphere"
   ]
  },
  {
   "cell_type": "markdown",
   "metadata": {},
   "source": [
    "<br><br><br><br><br><br><br><br><br><br><br><br><br><br><br>\n",
    "## You can adjust properties of the sphere such as the size, position, and color like so:\n",
    "(Note: `pos=vp.vector(1.0, -0.2, 0.0)` in vpython instead of `pos=[1.0, -0.2, 0.0]` in the visual module.)"
   ]
  },
  {
   "cell_type": "code",
   "execution_count": null,
   "metadata": {},
   "outputs": [],
   "source": [
    "import vpython as vp\n",
    "scene = vp.canvas() # Needed to start a new Vpython display for the current code cell\n",
    "vp.sphere(radius=0.5, pos=vp.vector(1.0, -0.2, 0.0),color=vp.color.green) # Create a 3D sphere"
   ]
  },
  {
   "cell_type": "markdown",
   "metadata": {},
   "source": [
    "<br><br><br><br><br><br><br><br><br><br><br><br><br><br><br>\n",
    "## Group activity\n",
    "Show a simple representation of a solid composed of atoms arranged on a simple cubic lattice. We can visualize the arrangement of the atoms using the vpython package by creating a picture with many spheres at positions $(i,j,k)$ with $i,j,k=-L...L$."
   ]
  },
  {
   "cell_type": "code",
   "execution_count": null,
   "metadata": {},
   "outputs": [],
   "source": [
    "import vpython as vp\n",
    "scene = vp.canvas() # Needed to start a new Vpython display for the current code cell\n",
    "\n",
    "L = 5\n",
    "\n",
    "for i in range(-L,L+1):\n",
    "    for j in range(-L,L+1):\n",
    "        for k in range(-L,L+1):\n",
    "            vp.sphere(radius = 0.3,pos=vp.vector(i,j,k),color=vp.color.magenta)"
   ]
  },
  {
   "cell_type": "markdown",
   "metadata": {},
   "source": [
    "<br><br><br><br><br><br><br><br><br><br><br><br><br><br><br>\n",
    "Pre-generated solution:"
   ]
  },
  {
   "cell_type": "code",
   "execution_count": null,
   "metadata": {},
   "outputs": [],
   "source": [
    "import vpython as vp\n",
    "scene = vp.canvas()\n",
    "L = 5\n",
    "R = 0.3\n",
    "for i in range(-L,L+1):\n",
    "    for j in range(-L,L+1):\n",
    "        for k in range(-L,L+1):\n",
    "            vp.sphere(pos=vp.vector(i,j,k), radius=R)"
   ]
  },
  {
   "cell_type": "markdown",
   "metadata": {},
   "source": [
    "## You can explore the 3D space using your mouse.\n",
    "* Rotate the viewing angle by moving the mouse while holding down either the right mouse button or the Ctrl key on the keyboard (or Command key on a Mac).\n",
    "* Hold down both mouse buttons (or the Alt key on Windows or Option key on Mac) and move the mouse to zoom in and out of the picture."
   ]
  },
  {
   "cell_type": "markdown",
   "metadata": {},
   "source": [
    "<br><br><br><br><br><br><br><br><br><br><br><br><br><br><br>\n",
    "## There are other shapes that can be used!\n",
    "* `box`\n",
    "* `cone`\n",
    "* `cylinder`\n",
    "* `pyramid`\n",
    "* `arrow`\n",
    "* Others can be found at https://www.glowscript.org/docs/VPythonDocs/primitives.html\n",
    "\n",
    "See page 116 for command details, remembering that `pos=vector(x,y,z)` instead of `pos=[x,y,z]`. On this same page are instructions to change the window size, background color, camera angle, etc."
   ]
  },
  {
   "cell_type": "markdown",
   "metadata": {},
   "source": [
    "<br><br><br><br><br><br><br><br><br><br><br><br><br><br><br>\n",
    "## Sometimes you'll want to create multiple spheres and manipulate each of them in turn. You can do so by creating an array of sphere-type variables that can then be filled with spheres."
   ]
  },
  {
   "cell_type": "code",
   "execution_count": null,
   "metadata": {},
   "outputs": [],
   "source": [
    "import vpython as vp\n",
    "import numpy as np\n",
    "s = np.empty(10,vp.sphere)\n",
    "scene = vp.canvas() # Needed to start a new Vpython display for the current code cell\n",
    "for n in range(10):\n",
    "    s[n]=vp.sphere(radius=0.25, pos=vp.vector(n,0,0))"
   ]
  },
  {
   "cell_type": "markdown",
   "metadata": {},
   "source": [
    "Once these commands have been run, we can then adjust the position for select spheres as desired. We can use this to create animations!"
   ]
  },
  {
   "cell_type": "code",
   "execution_count": null,
   "metadata": {},
   "outputs": [],
   "source": [
    "ctr = 0\n",
    "while ctr < 2000:\n",
    "    vp.rate(500) # Waits for 1/50th of a second before updating\n",
    "    for i in range(10):\n",
    "        s[i].pos=vp.vector(i,i*np.sin(ctr/100),0)\n",
    "    ctr += 1"
   ]
  },
  {
   "cell_type": "markdown",
   "metadata": {},
   "source": [
    "<br><br><br><br><br><br><br><br><br><br><br><br><br><br><br>\n",
    "## Example\n",
    "What will the following program do?"
   ]
  },
  {
   "cell_type": "code",
   "execution_count": 3,
   "metadata": {},
   "outputs": [
    {
     "ename": "ModuleNotFoundError",
     "evalue": "No module named 'vpython'",
     "output_type": "error",
     "traceback": [
      "\u001b[1;31m---------------------------------------------------------------------------\u001b[0m",
      "\u001b[1;31mModuleNotFoundError\u001b[0m                       Traceback (most recent call last)",
      "Cell \u001b[1;32mIn[3], line 1\u001b[0m\n\u001b[1;32m----> 1\u001b[0m \u001b[38;5;28;01mimport\u001b[39;00m \u001b[38;5;21;01mvpython\u001b[39;00m \u001b[38;5;28;01mas\u001b[39;00m \u001b[38;5;21;01mvp\u001b[39;00m     \u001b[38;5;66;03m# get VPython modules for animation\u001b[39;00m\n\u001b[0;32m      2\u001b[0m scene \u001b[38;5;241m=\u001b[39m vp\u001b[38;5;241m.\u001b[39mcanvas() \u001b[38;5;66;03m# Needed to start a new Vpython display for the current code cell\u001b[39;00m\n\u001b[0;32m      5\u001b[0m ball \u001b[38;5;241m=\u001b[39m vp\u001b[38;5;241m.\u001b[39msphere(pos\u001b[38;5;241m=\u001b[39mvp\u001b[38;5;241m.\u001b[39mvector(\u001b[38;5;241m0\u001b[39m,\u001b[38;5;241m5\u001b[39m,\u001b[38;5;241m0\u001b[39m), radius\u001b[38;5;241m=\u001b[39m\u001b[38;5;241m1\u001b[39m, color\u001b[38;5;241m=\u001b[39mvp\u001b[38;5;241m.\u001b[39mcolor\u001b[38;5;241m.\u001b[39myellow)  \n",
      "\u001b[1;31mModuleNotFoundError\u001b[0m: No module named 'vpython'"
     ]
    }
   ],
   "source": [
    "import vpython as vp     # get VPython modules for animation\n",
    "scene = vp.canvas() # Needed to start a new Vpython display for the current code cell\n",
    "\n",
    "\n",
    "ball = vp.sphere(pos=vp.vector(0,5,0), radius=1, color=vp.color.yellow)  \n",
    "floor = vp.box(pos=vp.vector(0,-5,0), length=8, height=0.2, width=4)     \n",
    "\n",
    "dt = 0.005            # time step size                        \n",
    "v = 0.0             # initial velocity                      \n",
    "while True:         # loop forever\n",
    "    vp.rate(200)    # limit animation rate to 200 loops/sec \n",
    "    ball.pos.y = ball.pos.y + v*dt       # update y position \n",
    "    if ball.pos.y > floor.pos.y + ball.radius:  \n",
    "        v = v - 9.8*dt         \n",
    "    else:                               \n",
    "        v = - v              "
   ]
  },
  {
   "cell_type": "code",
   "execution_count": null,
   "metadata": {},
   "outputs": [],
   "source": []
  }
 ],
 "metadata": {
  "anaconda-cloud": {},
  "kernelspec": {
   "display_name": "Python [conda env:base] *",
   "language": "python",
   "name": "conda-base-py"
  },
  "language_info": {
   "codemirror_mode": {
    "name": "ipython",
    "version": 3
   },
   "file_extension": ".py",
   "mimetype": "text/x-python",
   "name": "python",
   "nbconvert_exporter": "python",
   "pygments_lexer": "ipython3",
   "version": "3.12.7"
  }
 },
 "nbformat": 4,
 "nbformat_minor": 4
}
