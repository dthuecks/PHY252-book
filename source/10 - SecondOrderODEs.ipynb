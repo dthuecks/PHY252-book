{
 "cells": [
  {
   "cell_type": "markdown",
   "metadata": {},
   "source": [
    "# 10 - Solving Second-order Ordinary Differential Equations (ODEs)<br>*(Ch. 8.3)*\n",
    "\n",
    "A second-order ODE contains the second derivative of one of the variables. In general, this can be written as:\n",
    "\n",
    "\\begin{equation*} \\frac{\\textrm{d}^2x}{\\mathrm{d}t^2} = f(x,t) \\end{equation*}\n",
    "\n",
    "Our free-fall problem is a second-order differential equation\n",
    "\n",
    "\\begin{equation*} \\frac{\\textrm{d}^2y}{\\mathrm{d}t^2} = -g \\end{equation*}\n",
    "\n",
    "Note that we can equivalently write this as:\n",
    "\n",
    "\\begin{equation*} \\frac{\\textrm{d}}{\\mathrm{d}t} \\left( \\frac{\\textrm{d}y}{\\mathrm{d}t} \\right) = -g \\end{equation*}\n",
    "\n",
    "The trick here is to rewrite this second order ODE as *two coupled first order ODEs*:\n",
    "\n",
    "\\begin{equation*} \\begin{aligned} \\frac{\\textrm{d}y}{\\mathrm{d}t} &= v_y \\\\ \\frac{\\textrm{d}v_y}{\\mathrm{d}t} &= -g  \\end{aligned}\\end{equation*}\n",
    "\n",
    "We already know how to solve systems of equations like this!\n",
    "\n",
    "**Let's use the RK4 algorithm to solve the free-fall problem!** Note that we no longer need to assume an exact solution for the velocity!\n"
   ]
  },
  {
   "cell_type": "code",
   "execution_count": null,
   "metadata": {},
   "outputs": [],
   "source": [
    "import math\n",
    "import matplotlib.pyplot as plt\n",
    "import numpy as np\n",
    "\n",
    "g = 9.8\n",
    "\n",
    "def f(r,t):\n",
    "    # r is a 2D array, so first pull out the vals\n",
    "    y,vy = r[0],r[1]\n",
    "    fy = vy\n",
    "    fv = -g\n",
    "    return np.array([fy,fv],float)\n",
    "\n",
    "y0 = 0.0\n",
    "vy0 = 10.0\n",
    "t0 = 0.0     \n",
    "tf = 3.0    \n",
    "N = 10\n",
    "h = (tf-t0)/N \n",
    " \n",
    "tpoints = np.arange(t0,tf,h)\n",
    "ypoints = []\n",
    "vypoints = []\n",
    "\n",
    "# set up array with initial values x0,y0\n",
    "r = np.array([y0,vy0],float)\n",
    "\n",
    "for t in tpoints:\n",
    "    ypoints.append(r[0])\n",
    "    vypoints.append(r[1])\n",
    "    # Below we've just changed `x` into `r`\n",
    "    k1 = h*f(r,t)\n",
    "    k2 = h*f(r+0.5*k1,t+0.5*h)\n",
    "    k3 = h*f(r+0.5*k2,t+0.5*h)\n",
    "    k4 = h*f(r+k3,t+h)\n",
    "    r += (k1+2*k2+2*k3+k4)/6\n",
    "    if r[0] <= 0:\n",
    "        r[0]=0.0\n",
    "        r[1]=0.0\n",
    "    \n",
    "plt.figure(dpi=100)            \n",
    "plt.plot(tpoints,ypoints,'k-',label='$y$ (m)')  \n",
    "plt.plot(tpoints,vypoints,'b--',label='$v_y$ (m/s)')\n",
    "plt.xlabel('t')\n",
    "\n",
    "#Calculate exact solution for comparison\n",
    "y_th=y0+vy0*tpoints+0.5*(-g)*tpoints**2\n",
    "v_th=vy0+(-g)*tpoints\n",
    "v_th[y_th<0]=0\n",
    "y_th[y_th<0]=0\n",
    "\n",
    "plt.plot(tpoints,y_th,'g:',label='$y$ (m) theoretical')\n",
    "plt.plot(tpoints, v_th,'k-.',label='$v_y$ (m/s) theoretical')\n",
    "\n",
    "\n",
    "plt.legend(loc='best')\n",
    "plt.show()"
   ]
  },
  {
   "cell_type": "markdown",
   "metadata": {},
   "source": [
    "<br><br><br><br><br><br><br><br><br><br><br><br><br><br><br><br><br><br><br><br>\n",
    "\n",
    "## Example: Harmonic oscillator\n",
    "Another classic example from physics is a simple harmonic oscillator (e.g., a mass on a spring):\n",
    "\n",
    "\\begin{equation*} \\frac{\\textrm{d}^2x}{\\mathrm{d}t^2} = -kx \\end{equation*}\n",
    "\n",
    "which can be written as:\n",
    "\n",
    "\\begin{equation*} \\begin{aligned} \\frac{\\textrm{d}x}{\\mathrm{d}t} &= b \\\\ \\frac{\\textrm{d}b}{\\mathrm{d}t} &= -kx  \\end{aligned} \\end{equation*}\n",
    "\n",
    "**Modify the free-fall program above to handle this new scenario, assuming that $k=2.0$ N/m and a starting displacement of $x(t=0)=1.0$ meters.**"
   ]
  },
  {
   "cell_type": "code",
   "execution_count": null,
   "metadata": {},
   "outputs": [],
   "source": []
  },
  {
   "cell_type": "markdown",
   "metadata": {},
   "source": [
    "<br><br><br><br><br><br><br><br><br><br><br><br><br><br><br><br><br>\n",
    "**Pre-generated solution:**"
   ]
  },
  {
   "cell_type": "code",
   "execution_count": null,
   "metadata": {},
   "outputs": [],
   "source": [
    "import math\n",
    "import matplotlib.pyplot as plt\n",
    "import numpy as np\n",
    "\n",
    "def f(r,t):\n",
    "    x,y = r[0],r[1]\n",
    "    fx = y                          # NEW: DEFINE NEW FUNCTIONS fx, fy!\n",
    "    fy = -k*x\n",
    "    return np.array([fx,fy],float)\n",
    "\n",
    "a = 0.0     \n",
    "b = 10.0    \n",
    "N = 1000\n",
    "h = (b-a)/N \n",
    "k = 2.0                            # NEW: DEFINE k!\n",
    "\n",
    "tpoints = np.arange(a,b,h)\n",
    "xpoints = []\n",
    "ypoints = []\n",
    "\n",
    "r = np.array([1.0,0.0],float)      # NEW: DEFINE INIT. POSITION, VELOCITY\n",
    "\n",
    "for t in tpoints:\n",
    "    xpoints.append(r[0])\n",
    "    ypoints.append(r[1])\n",
    "    k1 = h*f(r,t)\n",
    "    k2 = h*f(r+0.5*k1,t+0.5*h)\n",
    "    k3 = h*f(r+0.5*k2,t+0.5*h)\n",
    "    k4 = h*f(r+k3,t+h)\n",
    "    r += (k1+2*k2+2*k3+k4)/6\n",
    "    \n",
    "plt.figure(dpi=100)            \n",
    "plt.plot(tpoints,xpoints,'b-')     # NEW: PLOT POSITION VS. TIME\n",
    "plt.xlabel('t')\n",
    "plt.ylabel('position (m)')\n",
    "plt.show()\n",
    "\n",
    "# We see a sine curve, as expected!"
   ]
  },
  {
   "cell_type": "markdown",
   "metadata": {},
   "source": [
    "<br><br><br><br><br><br><br><br><br><br><br><br><br>\n",
    "\n",
    "## Exercise\n",
    "\n",
    "The simple pendulum consists of a point mass attached to the end of a light, rigid rod that is free to pivot on a 2D plane:\n",
    "\n",
    "![](images/simplependulum.jpg)\n",
    "\n",
    "The equation of motion for a simple pendulum is\n",
    "\n",
    "\\begin{equation*} \\frac{\\textrm{d}^2\\theta}{\\mathrm{d}t^2} = -\\frac gl \\sin\\theta \\end{equation*}\n",
    "\n",
    "In introductory physics classes, we often assume that $\\theta$ is small, so $\\sin\\theta \\approx \\theta$, giving\n",
    "\n",
    "\\begin{equation*}  \\frac{\\textrm{d}^2\\theta}{\\mathrm{d}t^2} = -\\frac gl \\theta \\end{equation*}\n",
    "\n",
    "In this case the simple pendulum displays simple harmonic motion.\n",
    "\n",
    "If $\\theta$ is *not* small, there is no analytical solution to the equation and we *must* use a computer to see what happens!\n",
    "\n",
    "## Exercise: Modify your program from above to plot $\\theta$ vs. $t$.\n",
    "Use the the following initial conditions:\n",
    "\n",
    "\\begin{equation*}  \\frac{\\textrm{d}\\theta}{\\mathrm{d}t} = 0 \\frac{\\text{rad}}{\\text{sec}} \\quad , \\quad \\theta = .05\\pi \\text{ rad}\\end{equation*}\n",
    "\n",
    "Use $g=9.81$ and $L=0.1$."
   ]
  },
  {
   "cell_type": "code",
   "execution_count": null,
   "metadata": {},
   "outputs": [],
   "source": []
  },
  {
   "cell_type": "markdown",
   "metadata": {},
   "source": [
    "## Exercise: Modify the above program and examine the pendulum behavior as $\\theta_0$ gets larger (all the way up to $\\theta_0=0.99\\pi$)\n",
    "\n",
    "<br><br><br><br><br><br><br><br><br><br><br><br><br><br><br><br><br>\n",
    "\n",
    "## We can make an animation to show this motion!"
   ]
  },
  {
   "cell_type": "code",
   "execution_count": null,
   "metadata": {},
   "outputs": [],
   "source": []
  },
  {
   "cell_type": "markdown",
   "metadata": {},
   "source": [
    "<br><br><br><br><br><br><br><br><br><br><br><br><br><br><br><br>\n",
    "## Bonus fun time:\n",
    "\n",
    "Suppose we have a *driven pendulum*, where\n",
    "\n",
    "\\begin{equation*} \\frac{\\textrm{d}^2\\theta}{\\mathrm{d}t^2} = -\\frac gl \\sin\\theta + C\\cos\\theta\\sin\\Omega t \\end{equation*}\n",
    "\n",
    "1. Consider $C=2$, $\\Omega = 5$, and start the pendulum from rest and hanging vertically. Plot the displacement vs. time for 100 seconds. \n",
    "\n",
    "2. Change $\\Omega$ to observe the effect of different *driving frequencies* on the behavior of the pendulum. $\\Omega=10.5$ is one interesting example.\n",
    "\n",
    "<br><br><br><br><br><br><br><br><br><br><br><br>\n",
    "\n",
    "### Pre-written solution:\n",
    "\n",
    "Note:\n",
    "\\begin{equation*} \\begin{aligned} \\frac{\\textrm{d}\\theta}{\\mathrm{d}t} &= \\omega \\\\ \\frac{\\textrm{d}\\omega}{\\mathrm{d}t} &= -\\frac gl \\sin\\theta  \\end{aligned}\\end{equation*}"
   ]
  },
  {
   "cell_type": "code",
   "execution_count": 1,
   "metadata": {},
   "outputs": [
    {
     "data": {
      "image/png": "[encoded data removed]",
      "text/plain": [
       "<Figure size 600x400 with 1 Axes>"
      ]
     },
     "metadata": {
      "needs_background": "light"
     },
     "output_type": "display_data"
    }
   ],
   "source": [
    "import matplotlib.pyplot as plt\n",
    "import numpy as np\n",
    "\n",
    "def f(r,t):\n",
    "    theta,omega = r[0],r[1]\n",
    "    f_theta = omega                          \n",
    "    f_omega = -(g/L)*np.sin(theta)\n",
    "#    f_omega = -(g/L)*np.sin(theta) + C*np.cos(theta)*np.sin(OMEGA*t)\n",
    "    return np.array([f_theta,f_omega],float)\n",
    "\n",
    "a = 0.0     \n",
    "b = 3.0    \n",
    "N = 1000\n",
    "h = (b-a)/N \n",
    "g = 9.81\n",
    "L = 0.1\n",
    "C = 0\n",
    "OMEGA = 5\n",
    "pct0 = .99\n",
    "\n",
    "tpoints = np.arange(a,b,h)\n",
    "theta_points = []\n",
    "omega_points = []\n",
    "\n",
    "r = np.array([pct0*np.pi,0.0],float)      \n",
    "\n",
    "for t in tpoints:\n",
    "    theta_points.append(r[0])\n",
    "    omega_points.append(r[1])\n",
    "    k1 = h*f(r,t)\n",
    "    k2 = h*f(r+0.5*k1,t+0.5*h)\n",
    "    k3 = h*f(r+0.5*k2,t+0.5*h)\n",
    "    k4 = h*f(r+k3,t+h)\n",
    "    r += (k1+2*k2+2*k3+k4)/6\n",
    "    \n",
    "#SHO\n",
    "thy = [pct0*np.pi*np.sin(((g/L)**0.5*t)+0.5*np.pi) for t in tpoints]\n",
    "\n",
    "\n",
    "plt.figure(dpi=100)            \n",
    "plt.plot(tpoints,thy,'0.5',label='SHM')\n",
    "plt.plot(tpoints,theta_points,'b--',label='Actual')     \n",
    "plt.xlabel('time')\n",
    "plt.ylabel('angular displacement (rad)')\n",
    "plt.legend(loc='lower right')\n",
    "plt.show()"
   ]
  },
  {
   "cell_type": "markdown",
   "metadata": {},
   "source": [
    "### Animation:"
   ]
  },
  {
   "cell_type": "code",
   "execution_count": 3,
   "metadata": {},
   "outputs": [
    {
     "data": {
      "text/html": [
       "<div id=\"glowscript\" class=\"glowscript\"></div>"
      ],
      "text/plain": [
       "<IPython.core.display.HTML object>"
      ]
     },
     "metadata": {},
     "output_type": "display_data"
    },
    {
     "data": {
      "application/javascript": [
       "if (typeof Jupyter !== \"undefined\") { window.__context = { glowscript_container: $(\"#glowscript\").removeAttr(\"id\")};}else{ element.textContent = ' ';}"
      ],
      "text/plain": [
       "<IPython.core.display.Javascript object>"
      ]
     },
     "metadata": {},
     "output_type": "display_data"
    }
   ],
   "source": [
    "#Uses data (list named theta_points) from previous program\n",
    "import vpython as vp     # get VPython modules for animation\n",
    "scene = vp.canvas() # Needed to start a new Vpython display for the current code cell\n",
    "\n",
    "# draw the ball at (0,0,0) \n",
    "ball = vp.sphere(pos=vp.vector(0,-L,0), radius=.01, color=vp.color.yellow) # ball  \n",
    "rod = vp.cylinder(pos=vp.vector(0,0,0),axis=vp.vector(0,-L,0), radius=.001, color=vp.color.red)\n",
    "floor = vp.box(pos=vp.vector(0,0,0), length=.05, height=0.0005, width=.05)    # floor \n",
    "\n",
    "for i in range(np.size(theta_points)):\n",
    "    vp.rate(50)\n",
    "    ball.pos.y = -L*np.cos(theta_points[i])\n",
    "    ball.pos.x = -L*np.sin(theta_points[i])\n",
    "    rod.axis.x = ball.pos.x\n",
    "    rod.axis.y = ball.pos.y\n",
    "    \n"
   ]
  },
  {
   "cell_type": "code",
   "execution_count": null,
   "metadata": {},
   "outputs": [],
   "source": []
  }
 ],
 "metadata": {
  "anaconda-cloud": {},
  "kernelspec": {
   "display_name": "Python [conda env:base] *",
   "language": "python",
   "name": "conda-base-py"
  },
  "language_info": {
   "codemirror_mode": {
    "name": "ipython",
    "version": 3
   },
   "file_extension": ".py",
   "mimetype": "text/x-python",
   "name": "python",
   "nbconvert_exporter": "python",
   "pygments_lexer": "ipython3",
   "version": "3.12.7"
  }
 },
 "nbformat": 4,
 "nbformat_minor": 4
}
