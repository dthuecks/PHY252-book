{
 "cells": [
  {
   "cell_type": "markdown",
   "metadata": {},
   "source": [
    "# 13 - Projectile motion including Earth's curvature\n",
    "\n",
    "If we look at projectile motion on much longer spatial scales, we need to make further modifications to our model. These modifications are necessary because we can no longer neglect the curvature of the Earth. Let's assume that our projectile remains close enough to the Earth that the magnitude of free fall acceleration does not change appreciably. How do we incorporate Earth's curvature?\n",
    "<br><br><br><br><br><br><br><br><br><br><br><br><br><br><br><br><br><br><br><br><br><br><br><br>\n",
    "\n",
    "\n",
    "\n",
    "\n",
    "\n",
    "\n",
    "\n",
    "\n",
    "\n",
    "\n",
    "\n",
    "\n",
    "\n",
    "\n",
    "\n",
    "\n",
    "\n",
    "\n",
    "\n",
    "\n",
    "\n",
    "\n",
    "\n",
    "\n",
    "\n",
    "\n",
    "\n",
    "\n",
    "\n",
    "\n",
    "\n",
    "\n",
    "\n",
    "\n",
    "\n",
    "\n",
    "\n",
    "\n"
   ]
  },
  {
   "cell_type": "markdown",
   "metadata": {},
   "source": [
    "\\begin{equation*}F_g=-g\\hat{r},\\end{equation*} but $\\hat{r}=\\vec{r}/|\\vec{r}|$..... So \n",
    "\\begin{align} &F_{gx}=-gx/r & F_{gy}=-gy/r &\\end{align}"
   ]
  },
  {
   "cell_type": "markdown",
   "metadata": {},
   "source": [
    "## Incorporating Earth's curvature\n",
    "We need to make two changes to incorporate Earth's curvature.\n",
    "* Our acceleration is given by $\\vec{a}=-g\\hat{r}=-g\\vec{r}/r$ where $\\vec{r}$ is the projectile's position vector with respect to the center of the Earth.\n",
    "* The ball hits the ground when $r=R_E$ (instead of $y=0$ which is what we used when we defined Earth's surface as $y=0$). $R_E=6378$ km.\n",
    "\n",
    "Use the relationships above to write a program that examines projectile motion where Earth's curvature is accounted for. Use `odeint` as your differential equation solver.\n",
    "\n",
    "$\\vec{r}=x\\hat{i}+y\\hat{j}$\n",
    "\n",
    "$ r=|\\vec{r}|=\\sqrt{x^2+y^2}$"
   ]
  },
  {
   "cell_type": "code",
   "execution_count": 22,
   "metadata": {},
   "outputs": [
    {
     "data": {
      "text/plain": [
       "Text(0.5, 1.0, 'Projectile motion trajectory')"
      ]
     },
     "execution_count": 22,
     "metadata": {},
     "output_type": "execute_result"
    },
    {
     "data": {
      "image/png": "[encoded data removed]",
      "text/plain": [
       "<Figure size 432x288 with 1 Axes>"
      ]
     },
     "metadata": {
      "needs_background": "light"
     },
     "output_type": "display_data"
    }
   ],
   "source": [
    "# Import modules\n",
    "import numpy as np\n",
    "from scipy.integrate import odeint\n",
    "import matplotlib.pyplot as plt\n",
    "\n",
    "# Define ODE function\n",
    "def f(r,t):\n",
    "    x = r[0]\n",
    "    y = r[1]\n",
    "    vx = r[2]\n",
    "    vy = r[3]\n",
    "    rmag = np.sqrt(x**2+y**2)\n",
    "    \n",
    "    fx = vx\n",
    "    fy = vy\n",
    "    fvx = -g*x/rmag\n",
    "    fvy = -g*y/rmag\n",
    "    \n",
    "    return fx, fy, fvx, fvy\n",
    "\n",
    "\n",
    "# Run parameters\n",
    "g = 9.8\n",
    "R_E = 6.378e6 # Radius of Earth in meters\n",
    "x0 = 0.0\n",
    "y0 = R_E + 0.5*R_E\n",
    "thetadeg = 0 # degrees\n",
    "v0 = 80000 # 5000 # m/s\n",
    "t0 = 0.0\n",
    "tf = 10000\n",
    "N = 1e5\n",
    "h = (tf-t0)/N\n",
    "\n",
    "theta = thetadeg/180*np.pi # radians\n",
    "vx0 = v0*np.cos(theta)\n",
    "vy0 = v0*np.sin(theta)\n",
    "\n",
    "# Data containers\n",
    "tpoints = np.arange(t0,tf+h,h)\n",
    "\n",
    "# Initialize any parameters for ODE solver\n",
    "r = np.array([x0,y0,vx0,vy0],float)\n",
    "\n",
    "# Use odeint solver\n",
    "rpoints = odeint(f,r,tpoints)\n",
    "xpoints = rpoints[:,0]\n",
    "ypoints = rpoints[:,1]\n",
    "\n",
    "# Find the point when projectile hits the ground and stop changing data points\n",
    "ifin = np.argmax(np.sqrt(xpoints**2+ypoints**2) < R_E)\n",
    "if ifin <= 0:\n",
    "    ifin = np.size(ypoints)-1\n",
    "xpoints[ifin:]=xpoints[ifin]\n",
    "ypoints[ifin:]=ypoints[ifin]\n",
    "\n",
    "# Determine coords for Earth's surface\n",
    "Ex = [0]\n",
    "Ey = [R_E]\n",
    "angmax = -(np.arctan2(ypoints[-1],xpoints[-1])-np.pi/2)\n",
    "if angmax <0:\n",
    "    angmax = angmax + 2*np.pi\n",
    "angres = angmax/1000\n",
    "ang = 0\n",
    "while ang < angmax:\n",
    "    ang += angres\n",
    "    Ey.append(R_E*np.cos(ang))\n",
    "    Ex.append(R_E*np.sin(ang))\n",
    "\n",
    "# Plot\n",
    "# Plot projectile results and Earth's surface\n",
    "plt.plot(xpoints,ypoints,'k')#,'k-',label='$y$ (m)')\n",
    "plt.plot(Ex,Ey,'b')\n",
    "plt.xlim([-7e6,7e6])\n",
    "plt.ylim([-1e7,1e7])\n",
    "plt.axis('square')\n",
    "\n",
    "plt.xlabel('$x$ (m)')\n",
    "plt.ylabel('$y$ (m)')\n",
    "plt.title('Projectile motion trajectory')\n"
   ]
  },
  {
   "cell_type": "markdown",
   "metadata": {},
   "source": [
    "<br><br><br><br><br><br><br><br><br><br><br><br><br><br><br><br><br><br>\n",
    "**Pre-generated code:**"
   ]
  },
  {
   "cell_type": "code",
   "execution_count": 3,
   "metadata": {},
   "outputs": [
    {
     "data": {
      "image/png": "[encoded data removed]",
      "text/plain": [
       "<Figure size 432x288 with 1 Axes>"
      ]
     },
     "metadata": {
      "needs_background": "light"
     },
     "output_type": "display_data"
    }
   ],
   "source": [
    "import matplotlib.pyplot as plt\n",
    "import numpy as np\n",
    "from scipy.integrate import odeint\n",
    "\n",
    "g = 9.8\n",
    "R_E = 6.378e6 # radius of Earth in meters\n",
    "\n",
    "def f(r,t):\n",
    "    vecr = np.array([r[0],r[1]])\n",
    "    vecv = np.array([r[2],r[3]])\n",
    "        \n",
    "    f = vecv\n",
    "    fv = -g*vecr/np.linalg.norm(vecr)\n",
    "    \n",
    "    return f[0],f[1],fv[0],fv[1]\n",
    "\n",
    "\n",
    "x0 = 0.0 # Assume that we launch from a location at 12 o'clock when Earth looks like a circle.\n",
    "y0 = R_E + .5*R_E # Assume that we launch from a location at 12 o'clock when Earth looks like a circle.\n",
    "v0 = 7000 # m/s\n",
    "theta = 00.0 # degrees\n",
    "vx0 = v0*np.cos(theta*np.pi/180)\n",
    "vy0 = v0*np.sin(theta*np.pi/180)\n",
    "t0 = 0.0     \n",
    "tf = 5000.0    \n",
    "N = 100000\n",
    "h = (tf-t0)/N \n",
    " \n",
    "tpoints = np.arange(t0,tf,h)\n",
    "\n",
    "# set up array with initial values x0,y0,vx0,vy0\n",
    "r = np.array([x0,y0,vx0,vy0],float)\n",
    "\n",
    "rpoints = odeint(f,r,tpoints) \n",
    "\n",
    "xpoints = rpoints[:,0]\n",
    "ypoints = rpoints[:,1]\n",
    "\n",
    "# Find the point when projectile hits the ground and stop changing data points\n",
    "yfin = np.argmax(np.sqrt(xpoints**2+ypoints**2) < R_E)\n",
    "if yfin <= 0:\n",
    "    yfin = np.size(ypoints)-1\n",
    "xpoints[yfin:]=xpoints[yfin]\n",
    "ypoints[yfin:]=ypoints[yfin]\n",
    "\n",
    "# Determine coordinates for Earth's surface\n",
    "Ex = [0]\n",
    "Ey = [R_E]\n",
    "angmax = -(np.arctan2(ypoints[-1],xpoints[-1])-np.pi/2)\n",
    "if angmax < 0:\n",
    "    angmax = angmax + 2*np.pi\n",
    "angres = (angmax)/1000\n",
    "ang = 0\n",
    "while ang < angmax:\n",
    "    ang += angres\n",
    "    Ey.append(R_E*np.cos(ang))\n",
    "    Ex.append(R_E*np.sin(ang))\n",
    "\n",
    "# Plot projectile results and Earth's surface\n",
    "plt.plot(xpoints,ypoints,'k')#,'k-',label='$y$ (m)')\n",
    "plt.plot(Ex,Ey,'b')\n",
    "\n",
    "plt.xlabel('$x$ (m)')\n",
    "plt.ylabel('$y$ (m)')\n",
    "plt.title('Projectile motion trajectory')\n",
    "plt.show()"
   ]
  },
  {
   "cell_type": "markdown",
   "metadata": {},
   "source": [
    "<br><br><br><br><br><br><br><br><br><br><br><br><br><br><br><br><br>\n",
    "## What if the projectile is too far away to consider constant gravitational force?\n"
   ]
  },
  {
   "cell_type": "markdown",
   "metadata": {},
   "source": [
    "<br><br><br><br><br><br><br><br><br><br><br><br><br><br><br><br><br>\n",
    "## What if the projectile is too far away to consider constant gravitational force?\n",
    "In this case, we resort to Newton's Law of Gravitation, namely \\begin{equation*} \\vec{F}_G = -\\frac{GMm}{r^2} \\hat{r}.\\end{equation*}\n",
    "\n",
    "This can be rewritten as \\begin{equation*} \\vec{F}_G = -\\frac{GMm}{r^3} \\vec{r}.\\end{equation*}\n",
    "\n",
    "### Change the previous code to account for this added complexity:"
   ]
  },
  {
   "cell_type": "code",
   "execution_count": 1,
   "metadata": {},
   "outputs": [
    {
     "data": {
      "text/plain": [
       "Text(0.5, 1.0, 'Projectile motion trajectory')"
      ]
     },
     "execution_count": 1,
     "metadata": {},
     "output_type": "execute_result"
    },
    {
     "data": {
      "image/png": "[encoded data removed]",
      "text/plain": [
       "<Figure size 432x288 with 1 Axes>"
      ]
     },
     "metadata": {
      "needs_background": "light"
     },
     "output_type": "display_data"
    }
   ],
   "source": [
    "# Import modules\n",
    "import numpy as np\n",
    "from scipy.integrate import odeint\n",
    "import matplotlib.pyplot as plt\n",
    "\n",
    "# Define ODE function\n",
    "def f(r,t):\n",
    "    x = r[0]\n",
    "    y = r[1]\n",
    "    vx = r[2]\n",
    "    vy = r[3]\n",
    "    rmag = np.sqrt(x**2+y**2)\n",
    "    \n",
    "    fx = vx\n",
    "    fy = vy\n",
    "    #fvx = -g*x/rmag\n",
    "    fvx = -G*M*x/rmag**3\n",
    "    #fvy = -g*y/rmag\n",
    "    fvy = -G*M*y/rmag**3\n",
    "    \n",
    "    return fx, fy, fvx, fvy\n",
    "\n",
    "\n",
    "# Run parameters\n",
    "G = 6.67408e-11\n",
    "M = 5.972e24 # Mass of central body (Earth in this case)\n",
    "g = 9.8\n",
    "R_E = 6.378e6 # Radius of Earth in meters\n",
    "x0 = 0.0\n",
    "y0 = R_E + 0.5*R_E\n",
    "thetadeg = 0 # degrees\n",
    "v0 = 80000 # 5000 # m/s\n",
    "t0 = 0.0\n",
    "tf = 10000\n",
    "N = 1e5\n",
    "h = (tf-t0)/N\n",
    "\n",
    "theta = thetadeg/180*np.pi # radians\n",
    "vx0 = v0*np.cos(theta)\n",
    "vy0 = v0*np.sin(theta)\n",
    "\n",
    "# Data containers\n",
    "tpoints = np.arange(t0,tf+h,h)\n",
    "\n",
    "# Initialize any parameters for ODE solver\n",
    "r = np.array([x0,y0,vx0,vy0],float)\n",
    "\n",
    "# Use odeint solver\n",
    "rpoints = odeint(f,r,tpoints)\n",
    "xpoints = rpoints[:,0]\n",
    "ypoints = rpoints[:,1]\n",
    "\n",
    "# Find the point when projectile hits the ground and stop changing data points\n",
    "ifin = np.argmax(np.sqrt(xpoints**2+ypoints**2) < R_E)\n",
    "if ifin <= 0:\n",
    "    ifin = np.size(ypoints)-1\n",
    "xpoints[ifin:]=xpoints[ifin]\n",
    "ypoints[ifin:]=ypoints[ifin]\n",
    "\n",
    "# Determine coords for Earth's surface\n",
    "Ex = [0]\n",
    "Ey = [R_E]\n",
    "angmax = -(np.arctan2(ypoints[-1],xpoints[-1])-np.pi/2)\n",
    "if angmax <0:\n",
    "    angmax = angmax + 2*np.pi\n",
    "angres = angmax/1000\n",
    "ang = 0\n",
    "while ang < angmax:\n",
    "    ang += angres\n",
    "    Ey.append(R_E*np.cos(ang))\n",
    "    Ex.append(R_E*np.sin(ang))\n",
    "\n",
    "# Plot\n",
    "# Plot projectile results and Earth's surface\n",
    "plt.plot(xpoints,ypoints,'k')#,'k-',label='$y$ (m)')\n",
    "plt.plot(Ex,Ey,'b')\n",
    "plt.xlim([-7e6,7e6])\n",
    "plt.ylim([-1e7,1e7])\n",
    "plt.axis('square')\n",
    "\n",
    "plt.xlabel('$x$ (m)')\n",
    "plt.ylabel('$y$ (m)')\n",
    "plt.title('Projectile motion trajectory')\n"
   ]
  },
  {
   "cell_type": "markdown",
   "metadata": {},
   "source": [
    "<br><br><br><br><br><br><br><br><br><br><br><br><br><br><br><br><br><br>\n",
    "Pre-generated solution:"
   ]
  },
  {
   "cell_type": "code",
   "execution_count": 3,
   "metadata": {},
   "outputs": [
    {
     "data": {
      "image/png": "[encoded data removed]",
      "text/plain": [
       "<Figure size 432x288 with 1 Axes>"
      ]
     },
     "metadata": {
      "needs_background": "light"
     },
     "output_type": "display_data"
    }
   ],
   "source": [
    "import matplotlib.pyplot as plt\n",
    "import numpy as np\n",
    "from scipy.integrate import odeint\n",
    "\n",
    "G = 6.67408e-11\n",
    "M = 5.972e24 # Mass of central body (Earth in this case)\n",
    "R = 6.378e6 # radius of central body (Earth in this case)\n",
    "\n",
    "def f(r,t):\n",
    "    #vecr = np.array([r[0],r[1]])\n",
    "    #vecv = np.array([r[2],r[3]])\n",
    "        \n",
    "    #f = vecv\n",
    "    #fv = -G*M/(np.linalg.norm(vecr)**3)*vecr\n",
    "    x = r[0]\n",
    "    y = r[1]\n",
    "    vx = r[2]\n",
    "    vy = r[3]\n",
    "    rmag = np.sqrt(x**2+y**2)\n",
    "    \n",
    "    fx = vx\n",
    "    fy = vy\n",
    "    fvx = -G*M*x/rmag**3\n",
    "    fvy = -G*M*y/rmag**3    \n",
    "    \n",
    "    #return f[0],f[1],fv[0],fv[1]\n",
    "    return fx, fy, fvx, fvy\n",
    "\n",
    "\n",
    "x0 = 0.0 # Assume that we launch from a location at 12 o'clock when Earth looks like a circle.\n",
    "y0 = 3*R # Assume that we launch from a location at 12 o'clock when Earth looks like a circle.\n",
    "v0 = 3500 # m/s\n",
    "theta = 0.0 # degrees\n",
    "vx0 = v0*np.cos(theta*np.pi/180)\n",
    "vy0 = v0*np.sin(theta*np.pi/180)\n",
    "t0 = 0.0     \n",
    "tf = 1000000.0    \n",
    "N = 1000000\n",
    "h = (tf-t0)/N \n",
    " \n",
    "tpoints = np.arange(t0,tf,h)\n",
    "\n",
    "# set up array with initial values x0,y0,vx0,vy0\n",
    "r = np.array([x0,y0,vx0,vy0],float)\n",
    "\n",
    "rpoints = odeint(f,r,tpoints) \n",
    "\n",
    "xpoints = rpoints[:,0]\n",
    "ypoints = rpoints[:,1]\n",
    "\n",
    "# Find the point when projectile hits the ground and stop changing data points\n",
    "yfin = np.argmax(np.sqrt(xpoints**2+ypoints**2) < R)\n",
    "if yfin <= 0:\n",
    "    yfin = np.size(ypoints)-1\n",
    "xpoints[yfin:]=xpoints[yfin]\n",
    "ypoints[yfin:]=ypoints[yfin]\n",
    "\n",
    "# Determine coordinates for Earth's surface\n",
    "Ex = [0]\n",
    "Ey = [R]\n",
    "angarr = -(np.arctan2(ypoints,xpoints)-np.pi/2)\n",
    "angarr[angarr<0]=angarr[angarr<0]+2*np.pi\n",
    "angmax = np.max(angarr)\n",
    "if angmax < 0:\n",
    "    angmax = angmax + 2*np.pi\n",
    "angres = (angmax)/1000\n",
    "ang = 0\n",
    "while ang < angmax:\n",
    "    ang += angres\n",
    "    Ey.append(R*np.cos(ang))\n",
    "    Ex.append(R*np.sin(ang))\n",
    "\n",
    "# Plot projectile results and Earth's surface\n",
    "plt.plot(xpoints,ypoints,'k')#,'k-',label='$y$ (m)')\n",
    "plt.plot(Ex,Ey,'b')\n",
    "\n",
    "plt.xlabel('$x$ (m)')\n",
    "plt.ylabel('$y$ (m)')\n",
    "plt.title('Projectile motion trajectory')\n",
    "plt.axis('square')\n",
    "plt.show()\n"
   ]
  },
  {
   "cell_type": "markdown",
   "metadata": {},
   "source": [
    "<br><br><br><br><br><br><br><br><br><br><br><br><br><br><br><br><br>\n",
    "## Let's also incorporate drag for a missle launch\n",
    "For a missle being launched from one location on Earth and landing in another location on Earth, we will assume $C_D\\approx 0.78$ in our quadratic drag equation for a ballistic missile. For additional complexity, let's assume that the Earth's air density varies as a function of altitude: \\begin{equation*}\\rho(R_E + h)=\\rho_0 e^{-\\rho_0 g h/P_0}\\end{equation*} where $h$ is the altitude above Earth's surface, $\\rho_0=\\rho(R_E)$ and $P_0\\approx 101325$ Pa.\n",
    "\n",
    "Incorporate this added complexity into our previous code."
   ]
  },
  {
   "cell_type": "code",
   "execution_count": null,
   "metadata": {},
   "outputs": [],
   "source": []
  },
  {
   "cell_type": "markdown",
   "metadata": {},
   "source": [
    "<br><br><br><br><br><br><br><br><br><br><br><br><br>\n",
    "Pre-generated code:"
   ]
  },
  {
   "cell_type": "code",
   "execution_count": 4,
   "metadata": {},
   "outputs": [
    {
     "data": {
      "image/png": "[encoded data removed]",
      "text/plain": [
       "<Figure size 432x288 with 1 Axes>"
      ]
     },
     "metadata": {
      "needs_background": "light"
     },
     "output_type": "display_data"
    }
   ],
   "source": [
    "import matplotlib.pyplot as plt\n",
    "import numpy as np\n",
    "from scipy.integrate import odeint\n",
    "\n",
    "G = 6.67408e-11\n",
    "M = 5.972e24 # Mass of central body (Earth in this case)\n",
    "R = 6.378e6 # radius of central body (Earth in this case)\n",
    "rho0 = 1.225 # kg/m^3, air density at sea level on Earth's surface\n",
    "P0 = 101325 # Air pressure at sea level on Earth's surface\n",
    "A = 2.76 # m^2 for V-2 rocket\n",
    "m = 12500 # kg for V-2 rocket\n",
    "\n",
    "def f(r,t):\n",
    "    vecr = np.array([r[0],r[1]])\n",
    "    vecv = np.array([r[2],r[3]])\n",
    "    vnorm = np.linalg.norm(vecv)\n",
    "    \n",
    "    h = np.linalg.norm(vecr)-R\n",
    "    rho = rho0*np.exp(-rho0*g*h/P0) # We will use g here. If an object is far enough out that we need Newton's gravity law, drag likely not a factor.\n",
    "    Cd = 0.78 # for missiles, this could range from 0.6-0.95 according to https://www.mpoweruk.com/ballistics.htm\n",
    "    b2 = 0.5*Cd*rho*A\n",
    "        \n",
    "    f = vecv\n",
    "    fv = -G*M/(np.linalg.norm(vecr)**3)*vecr-(b2/m)*vnorm*vecv\n",
    "    \n",
    "    return f[0],f[1],fv[0],fv[1]\n",
    "\n",
    "\n",
    "x0 = 0.0 # Assume that we launch from a location at 12 o'clock when Earth looks like a circle.\n",
    "y0 = R # Assume that we launch from a location at 12 o'clock when Earth looks like a circle.\n",
    "v0 = 5000 # m/s, ICBMs can travel up to 5000 m/s!\n",
    "theta = 45.0 # degrees\n",
    "vx0 = v0*np.cos(theta*np.pi/180)\n",
    "vy0 = v0*np.sin(theta*np.pi/180)\n",
    "t0 = 0.0     \n",
    "tf = 100000.0    \n",
    "N = 1000000\n",
    "h = (tf-t0)/N \n",
    " \n",
    "tpoints = np.arange(t0,tf,h)\n",
    "\n",
    "# set up array with initial values x0,y0,vx0,vy0\n",
    "r = np.array([x0,y0,vx0,vy0],float)\n",
    "\n",
    "rpoints = odeint(f,r,tpoints) \n",
    "\n",
    "xpoints = rpoints[:,0]\n",
    "ypoints = rpoints[:,1]\n",
    "\n",
    "# Find the point when projectile hits the ground and stop changing data points\n",
    "yfin = np.argmax(np.sqrt(xpoints**2+ypoints**2) < R)\n",
    "if yfin <= 0:\n",
    "    yfin = np.size(ypoints)-1\n",
    "xpoints[yfin:]=xpoints[yfin]\n",
    "ypoints[yfin:]=ypoints[yfin]\n",
    "\n",
    "# Determine coordinates for Earth's surface\n",
    "Ex = [0]\n",
    "Ey = [R]\n",
    "angarr = -(np.arctan2(ypoints,xpoints)-np.pi/2)\n",
    "angarr[angarr<0]=angarr[angarr<0]+2*np.pi\n",
    "angmax = np.max(angarr)\n",
    "if angmax < 0:\n",
    "    angmax = angmax + 2*np.pi\n",
    "angres = (angmax)/1000\n",
    "ang = 0\n",
    "while ang < angmax:\n",
    "    ang += angres\n",
    "    Ey.append(R*np.cos(ang))\n",
    "    Ex.append(R*np.sin(ang))\n",
    "\n",
    "# Plot projectile results and Earth's surface\n",
    "plt.plot(xpoints,ypoints,'k')#,'k-',label='$y$ (m)')\n",
    "plt.plot(Ex,Ey,'b')\n",
    "\n",
    "plt.xlabel('$x$ (m)')\n",
    "plt.ylabel('$y$ (m)')\n",
    "plt.title('Projectile motion trajectory')\n",
    "plt.show()\n"
   ]
  },
  {
   "cell_type": "markdown",
   "metadata": {},
   "source": [
    "## Play around with the above code to try and find the launch angle that gives the longest Intercontinnental Ballistic Missile (ICBM) range (assuming only projectile motion). Is it what we predicted in PHY 111?"
   ]
  },
  {
   "cell_type": "markdown",
   "metadata": {},
   "source": [
    "<br><br><br><br><br><br><br><br><br><br><br><br><br><br><br>\n",
    "## What further complexity is needed to accurately model an ICBM?"
   ]
  },
  {
   "cell_type": "code",
   "execution_count": null,
   "metadata": {},
   "outputs": [],
   "source": []
  }
 ],
 "metadata": {
  "anaconda-cloud": {},
  "kernelspec": {
   "display_name": "Python [conda env:base] *",
   "language": "python",
   "name": "conda-base-py"
  },
  "language_info": {
   "codemirror_mode": {
    "name": "ipython",
    "version": 3
   },
   "file_extension": ".py",
   "mimetype": "text/x-python",
   "name": "python",
   "nbconvert_exporter": "python",
   "pygments_lexer": "ipython3",
   "version": "3.12.7"
  }
 },
 "nbformat": 4,
 "nbformat_minor": 4
}
